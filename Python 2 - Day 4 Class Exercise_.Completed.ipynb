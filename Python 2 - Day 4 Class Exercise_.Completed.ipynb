{
 "cells": [
  {
   "cell_type": "markdown",
   "metadata": {},
   "source": [
    "Exercise 1. \n",
    "\n",
    "Create a table named Countries which has country_id column as the primary key and name column. Then insert least 3 rows of data and use SELECT command to show the contents of the table. "
   ]
  },
  {
   "cell_type": "code",
   "execution_count": 1,
   "metadata": {},
   "outputs": [],
   "source": [
    "# You need to run this cell to connect to in-memory database\n",
    "\n",
    "#importing the sqlite module \n",
    "import sqlite3\n",
    "\n",
    "# In memory database\n",
    "dbconn = sqlite3.connect(':memory:')\n",
    "\n",
    "#set a variable up for the cursor to write SQL scripts\n",
    "db = dbconn.cursor()"
   ]
  },
  {
   "cell_type": "code",
   "execution_count": 3,
   "metadata": {},
   "outputs": [],
   "source": [
    "db.execute(\"\"\"CREATE TABLE Countries (\n",
    "            country_id INTEGER PRIMARY KEY AUTOINCREMENT,\n",
    "            name TEXT\n",
    "            )\"\"\")\n",
    "dbconn.commit()"
   ]
  },
  {
   "cell_type": "markdown",
   "metadata": {},
   "source": [
    "Exercise 2.\n",
    "\n",
    "Create a table name Cities which has city_id column as the primary key, name column, population column, and country_id column as the foreign key connecting to country_id column of Countries table from Exercise 1. \n",
    "\n",
    "Then \n",
    "- insert least 5 rows of data \n",
    "- use SELECT command to show the contents of the table\n",
    "- use SELECT command to only show the cities of selected country"
   ]
  },
  {
   "cell_type": "code",
   "execution_count": 4,
   "metadata": {},
   "outputs": [],
   "source": [
    "db.execute(\"\"\"CREATE TABLE Cities (\n",
    "            city_id INTEGER PRIMARY KEY AUTOINCREMENT,\n",
    "            name TEXT,\n",
    "            population INTEGER,\n",
    "            country_id INTEGER NOT NULL,\n",
    "            FOREIGN KEY(country_id) REFERENCES Countries(country_id)\n",
    "            )\"\"\")\n",
    "dbconn.commit()\n"
   ]
  },
  {
   "cell_type": "code",
   "execution_count": null,
   "metadata": {},
   "outputs": [],
   "source": [
    "db.execute(\"INSERT INTO Countries VALUES (NULL, 'USA')\")\n",
    "db.execute(\"INSERT INTO Countries VALUES (NULL, 'Italy')\")\n",
    "db.execute(\"INSERT INTO Countries VALUES (NULL, 'Germany')\")\n",
    "dbconn.commit()\n"
   ]
  },
  {
   "cell_type": "code",
   "execution_count": 10,
   "metadata": {},
   "outputs": [],
   "source": [
    "db.execute(\"INSERT INTO Cities VALUES (NULL, 'Berlin', 3500000, 3)\")\n",
    "db.execute(\"INSERT INTO Cities VALUES (NULL, 'New York', 19000000, 1)\")\n",
    "db.execute(\"INSERT INTO Cities VALUES (NULL, 'Milan', 1200000, 2)\")\n",
    "db.execute(\"INSERT INTO Cities VALUES (NULL, 'Frederick', 75000, 1)\")\n",
    "db.execute(\"INSERT INTO Cities VALUES (NULL, 'Hannover', 540000, 3)\")\n",
    "dbconn.commit()\n"
   ]
  },
  {
   "cell_type": "code",
   "execution_count": 12,
   "metadata": {},
   "outputs": [
    {
     "name": "stdout",
     "output_type": "stream",
     "text": [
      "[(1, 'Berlin', 3500000, 3), (2, 'New York', 19000000, 1), (3, 'Milan', 1200000, 2), (4, 'Frederick', 75000, 1), (5, 'Hannover', 540000, 3)]\n",
      "\n",
      "=====\n",
      "\n",
      "[('Berlin',), ('Hannover',)]\n"
     ]
    }
   ],
   "source": [
    "db.execute(\"SELECT * from Cities\")\n",
    "print(db.fetchall())\n",
    "\n",
    "print(\"\\n=====\\n\")\n",
    "\n",
    "db.execute(\"SELECT name from Cities WHERE country_id = 3\")\n",
    "print(db.fetchall())\n"
   ]
  },
  {
   "cell_type": "markdown",
   "metadata": {},
   "source": [
    "Exercise 3.\n",
    "\n",
    "Modify 3rd row of Cities table to increase city's population by 1,000. Show data before and after the change."
   ]
  },
  {
   "cell_type": "code",
   "execution_count": 37,
   "metadata": {},
   "outputs": [
    {
     "name": "stdout",
     "output_type": "stream",
     "text": [
      "[(1, 'Berlin', 3500000, 3), (2, 'New York', 19000000, 1), (3, 'Milan', 1200000, 2), (4, 'Frederick', 75000, 1), (5, 'Hannover', 540000, 3)]\n",
      "\n",
      "***************\n",
      "\n",
      "[(1, 'Berlin', 3500000, 3), (2, 'New York', 19000000, 1), (3, 'Milan', 1201000, 2), (4, 'Frederick', 75000, 1), (5, 'Hannover', 540000, 3)]\n"
     ]
    }
   ],
   "source": [
    "tmp_db_list = []\n",
    "\n",
    "# Retrieve and print list of cities before update\n",
    "db.execute(\"SELECT * from Cities\")\n",
    "for city1 in db.fetchall():\n",
    "    tmp_db_list.append(city1)\n",
    "print(tmp_db_list)\n",
    "\n",
    "print ('\\n' + '*' * 15 + '\\n')\n",
    "\n",
    "# Retrieve and print list of cities after update\n",
    "city_id_to_update = tmp_db_list[2][0]\n",
    "new_population = tmp_db_list[2][2] + 1000\n",
    "db.execute(\"UPDATE Cities SET population = ? WHERE city_id = ?\", (new_population, city_id_to_update,))\n",
    "db.execute(\"SELECT * FROM Cities\")\n",
    "print(db.fetchall())\n"
   ]
  },
  {
   "cell_type": "code",
   "execution_count": 38,
   "metadata": {},
   "outputs": [],
   "source": [
    "dbconn.close()"
   ]
  },
  {
   "cell_type": "code",
   "execution_count": null,
   "metadata": {},
   "outputs": [],
   "source": []
  }
 ],
 "metadata": {
  "kernelspec": {
   "display_name": "Python 3",
   "language": "python",
   "name": "python3"
  },
  "language_info": {
   "codemirror_mode": {
    "name": "ipython",
    "version": 3
   },
   "file_extension": ".py",
   "mimetype": "text/x-python",
   "name": "python",
   "nbconvert_exporter": "python",
   "pygments_lexer": "ipython3",
   "version": "3.8.8"
  }
 },
 "nbformat": 4,
 "nbformat_minor": 4
}
